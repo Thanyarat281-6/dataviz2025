{
  "nbformat": 4,
  "nbformat_minor": 0,
  "metadata": {
    "colab": {
      "provenance": [],
      "toc_visible": true,
      "authorship_tag": "ABX9TyOsBB1eaeeUHgI2Kh39nSx1",
      "include_colab_link": true
    },
    "kernelspec": {
      "name": "python3",
      "display_name": "Python 3"
    },
    "language_info": {
      "name": "python"
    }
  },
  "cells": [
    {
      "cell_type": "markdown",
      "metadata": {
        "id": "view-in-github",
        "colab_type": "text"
      },
      "source": [
        "<a href=\"https://colab.research.google.com/github/Thanyarat281-6/dataviz2025/blob/main/My_first_python_code.ipynb\" target=\"_parent\"><img src=\"https://colab.research.google.com/assets/colab-badge.svg\" alt=\"Open In Colab\"/></a>"
      ]
    },
    {
      "cell_type": "markdown",
      "source": [
        "Here we can write using **Markdown**\n",
        "# intro"
      ],
      "metadata": {
        "id": "ySfhM6kwUWYp"
      }
    },
    {
      "cell_type": "markdown",
      "source": [
        "# Name"
      ],
      "metadata": {
        "id": "a8zwemPNVP5O"
      }
    },
    {
      "cell_type": "code",
      "source": [
        "print(\"Thanyarat\")"
      ],
      "metadata": {
        "colab": {
          "base_uri": "https://localhost:8080/"
        },
        "id": "CZYZcbyYVn7Z",
        "outputId": "5ac1293e-c4f2-436b-81b3-9064258a4459"
      },
      "execution_count": 1,
      "outputs": [
        {
          "output_type": "stream",
          "name": "stdout",
          "text": [
            "Thanyarat\n"
          ]
        }
      ]
    },
    {
      "cell_type": "markdown",
      "source": [
        "# Surname"
      ],
      "metadata": {
        "id": "DeCzCKWkVSur"
      }
    },
    {
      "cell_type": "code",
      "source": [
        "print('Sakkaree')"
      ],
      "metadata": {
        "colab": {
          "base_uri": "https://localhost:8080/"
        },
        "outputId": "05ad4f94-ebc5-43fd-b84c-fb0790900a9b",
        "id": "Ztl2K4naVyur"
      },
      "execution_count": 3,
      "outputs": [
        {
          "output_type": "stream",
          "name": "stdout",
          "text": [
            "Sakkaree\n"
          ]
        }
      ]
    }
  ]
}